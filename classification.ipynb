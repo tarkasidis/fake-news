{
 "cells": [
  {
   "cell_type": "code",
   "execution_count": 1,
   "id": "b7126247-0631-40f4-8050-028063fa4bd8",
   "metadata": {},
   "outputs": [
    {
     "name": "stdout",
     "output_type": "stream",
     "text": [
      "Requirement already satisfied: pythainlp in /opt/conda/lib/python3.11/site-packages (5.0.4)\n",
      "Requirement already satisfied: requests>=2.22.0 in /opt/conda/lib/python3.11/site-packages (from pythainlp) (2.31.0)\n",
      "Requirement already satisfied: charset-normalizer<4,>=2 in /opt/conda/lib/python3.11/site-packages (from requests>=2.22.0->pythainlp) (3.3.0)\n",
      "Requirement already satisfied: idna<4,>=2.5 in /opt/conda/lib/python3.11/site-packages (from requests>=2.22.0->pythainlp) (3.4)\n",
      "Requirement already satisfied: urllib3<3,>=1.21.1 in /opt/conda/lib/python3.11/site-packages (from requests>=2.22.0->pythainlp) (2.0.7)\n",
      "Requirement already satisfied: certifi>=2017.4.17 in /opt/conda/lib/python3.11/site-packages (from requests>=2.22.0->pythainlp) (2023.7.22)\n",
      "Requirement already satisfied: full in /opt/conda/lib/python3.11/site-packages (0.0.3.1)\n",
      "Requirement already satisfied: torch in /opt/conda/lib/python3.11/site-packages (from full) (2.3.0)\n",
      "Requirement already satisfied: transformers in /opt/conda/lib/python3.11/site-packages (from full) (4.40.1)\n",
      "Requirement already satisfied: filelock in /opt/conda/lib/python3.11/site-packages (from torch->full) (3.14.0)\n",
      "Requirement already satisfied: typing-extensions>=4.8.0 in /opt/conda/lib/python3.11/site-packages (from torch->full) (4.8.0)\n",
      "Requirement already satisfied: sympy in /opt/conda/lib/python3.11/site-packages (from torch->full) (1.12)\n",
      "Requirement already satisfied: networkx in /opt/conda/lib/python3.11/site-packages (from torch->full) (3.2)\n",
      "Requirement already satisfied: jinja2 in /opt/conda/lib/python3.11/site-packages (from torch->full) (3.1.2)\n",
      "Requirement already satisfied: fsspec in /opt/conda/lib/python3.11/site-packages (from torch->full) (2023.9.2)\n",
      "Requirement already satisfied: huggingface-hub<1.0,>=0.19.3 in /opt/conda/lib/python3.11/site-packages (from transformers->full) (0.22.2)\n",
      "Requirement already satisfied: numpy>=1.17 in /opt/conda/lib/python3.11/site-packages (from transformers->full) (1.24.4)\n",
      "Requirement already satisfied: packaging>=20.0 in /opt/conda/lib/python3.11/site-packages (from transformers->full) (23.2)\n",
      "Requirement already satisfied: pyyaml>=5.1 in /opt/conda/lib/python3.11/site-packages (from transformers->full) (6.0.1)\n",
      "Requirement already satisfied: regex!=2019.12.17 in /opt/conda/lib/python3.11/site-packages (from transformers->full) (2024.4.28)\n",
      "Requirement already satisfied: requests in /opt/conda/lib/python3.11/site-packages (from transformers->full) (2.31.0)\n",
      "Requirement already satisfied: tokenizers<0.20,>=0.19 in /opt/conda/lib/python3.11/site-packages (from transformers->full) (0.19.1)\n",
      "Requirement already satisfied: safetensors>=0.4.1 in /opt/conda/lib/python3.11/site-packages (from transformers->full) (0.4.3)\n",
      "Requirement already satisfied: tqdm>=4.27 in /opt/conda/lib/python3.11/site-packages (from transformers->full) (4.66.1)\n",
      "Requirement already satisfied: MarkupSafe>=2.0 in /opt/conda/lib/python3.11/site-packages (from jinja2->torch->full) (2.1.3)\n",
      "Requirement already satisfied: charset-normalizer<4,>=2 in /opt/conda/lib/python3.11/site-packages (from requests->transformers->full) (3.3.0)\n",
      "Requirement already satisfied: idna<4,>=2.5 in /opt/conda/lib/python3.11/site-packages (from requests->transformers->full) (3.4)\n",
      "Requirement already satisfied: urllib3<3,>=1.21.1 in /opt/conda/lib/python3.11/site-packages (from requests->transformers->full) (2.0.7)\n",
      "Requirement already satisfied: certifi>=2017.4.17 in /opt/conda/lib/python3.11/site-packages (from requests->transformers->full) (2023.7.22)\n",
      "Requirement already satisfied: mpmath>=0.19 in /opt/conda/lib/python3.11/site-packages (from sympy->torch->full) (1.3.0)\n",
      "Requirement already satisfied: emoji in /opt/conda/lib/python3.11/site-packages (2.11.1)\n",
      "Requirement already satisfied: attacut in /opt/conda/lib/python3.11/site-packages (1.0.6)\n",
      "Requirement already satisfied: docopt>=0.6.2 in /opt/conda/lib/python3.11/site-packages (from attacut) (0.6.2)\n",
      "Requirement already satisfied: fire>=0.1.3 in /opt/conda/lib/python3.11/site-packages (from attacut) (0.6.0)\n",
      "Requirement already satisfied: nptyping>=0.2.0 in /opt/conda/lib/python3.11/site-packages (from attacut) (2.5.0)\n",
      "Requirement already satisfied: numpy>=1.17.0 in /opt/conda/lib/python3.11/site-packages (from attacut) (1.24.4)\n",
      "Requirement already satisfied: pyyaml>=5.1.2 in /opt/conda/lib/python3.11/site-packages (from attacut) (6.0.1)\n",
      "Requirement already satisfied: six>=1.12.0 in /opt/conda/lib/python3.11/site-packages (from attacut) (1.16.0)\n",
      "Requirement already satisfied: ssg>=0.0.4 in /opt/conda/lib/python3.11/site-packages (from attacut) (0.0.8)\n",
      "Requirement already satisfied: torch>=1.2.0 in /opt/conda/lib/python3.11/site-packages (from attacut) (2.3.0)\n",
      "Requirement already satisfied: termcolor in /opt/conda/lib/python3.11/site-packages (from fire>=0.1.3->attacut) (2.4.0)\n",
      "Requirement already satisfied: python-crfsuite>=0.9.6 in /opt/conda/lib/python3.11/site-packages (from ssg>=0.0.4->attacut) (0.9.10)\n",
      "Requirement already satisfied: tqdm>=4.32.2 in /opt/conda/lib/python3.11/site-packages (from ssg>=0.0.4->attacut) (4.66.1)\n",
      "Requirement already satisfied: filelock in /opt/conda/lib/python3.11/site-packages (from torch>=1.2.0->attacut) (3.14.0)\n",
      "Requirement already satisfied: typing-extensions>=4.8.0 in /opt/conda/lib/python3.11/site-packages (from torch>=1.2.0->attacut) (4.8.0)\n",
      "Requirement already satisfied: sympy in /opt/conda/lib/python3.11/site-packages (from torch>=1.2.0->attacut) (1.12)\n",
      "Requirement already satisfied: networkx in /opt/conda/lib/python3.11/site-packages (from torch>=1.2.0->attacut) (3.2)\n",
      "Requirement already satisfied: jinja2 in /opt/conda/lib/python3.11/site-packages (from torch>=1.2.0->attacut) (3.1.2)\n",
      "Requirement already satisfied: fsspec in /opt/conda/lib/python3.11/site-packages (from torch>=1.2.0->attacut) (2023.9.2)\n",
      "Requirement already satisfied: MarkupSafe>=2.0 in /opt/conda/lib/python3.11/site-packages (from jinja2->torch>=1.2.0->attacut) (2.1.3)\n",
      "Requirement already satisfied: mpmath>=0.19 in /opt/conda/lib/python3.11/site-packages (from sympy->torch>=1.2.0->attacut) (1.3.0)\n"
     ]
    }
   ],
   "source": [
    "!pip install pythainlp\n",
    "!pip install full\n",
    "!pip install emoji\n",
    "!pip install attacut\n",
    "import pandas as pd"
   ]
  },
  {
   "cell_type": "code",
   "execution_count": 2,
   "id": "af95e133-d36f-44f2-93c0-9079a6270732",
   "metadata": {},
   "outputs": [],
   "source": [
    "df_fake = pd.read_csv(\"data/fake.csv\")\n",
    "df_real = pd.read_csv(\"data/real.csv\")"
   ]
  },
  {
   "cell_type": "code",
   "execution_count": 3,
   "id": "973d35cd-e39e-4af4-9903-84c6ff81ecb1",
   "metadata": {},
   "outputs": [],
   "source": [
    "df_real\n",
    "df_fake[\"class\"] = 0\n",
    "df_real[\"class\"] = 1\n",
    "df_merge = pd.concat([df_fake, df_real], axis =0 )\n",
    "df_merge.head(10)\n",
    "df=df_merge.drop([\"title\", \"type\",\"url\",\"W/D/Y\",\"summary\",], axis = 1)\n",
    "import pythainlp\n",
    "from pythainlp.corpus import thai_stopwords\n",
    "from pythainlp.tokenize import word_tokenize\n",
    "import re\n",
    "import string\n",
    "from pythainlp.util import normalize\n",
    "from pythainlp.tokenize import newmm\n",
    "def cleanText(sentences):\n",
    "    text = []\n",
    "    temp = []\n",
    "    for txt in sentences:\n",
    "        # แปลงเป็น string\n",
    "        t = str(txt)\n",
    "\n",
    "        # ลบตัวอักษรที่ไม่ใช่ภาษาไทย\n",
    "        cleaned_text = re.sub('[^ก-๙]', '', t)\n",
    "\n",
    "        # Normalize ข้อความ\n",
    "        normalized_text = normalize(cleaned_text)\n",
    "\n",
    "        # ดึง stopwords ภาษาไทย\n",
    "        stop_words = list(thai_stopwords())\n",
    "\n",
    "        # ตัดคำ\n",
    "        words = word_tokenize(normalized_text, engine=\"newmm\")\n",
    "\n",
    "        # ลบ stopwords และคำที่มีช่องว่าง\n",
    "        filtered_words = [word for word in words if word not in stop_words and \" \" not in word]\n",
    "\n",
    "        # แปลงเป็น lowercase และรวมคำ\n",
    "        cleaned_sentence = \" \".join(filtered_words).lower()\n",
    "\n",
    "        # เก็บผลลัพธ์\n",
    "        text.append(cleaned_sentence)\n",
    "        temp.append([word.lower() for word in words])\n",
    "\n",
    "    return text, temp \n",
    "l = df.body\n",
    "cleaned_word , temp = cleanText(l)\n",
    "len(cleaned_word)\n",
    "cleaned_word[:5]\n",
    "xxx = pd.DataFrame(cleaned_word, columns=['cleaned'])\n",
    "xxx.to_csv('fuck.csv', index=False) "
   ]
  },
  {
   "cell_type": "code",
   "execution_count": 4,
   "id": "060832f5-2433-45e1-a30c-be59ca58b9a4",
   "metadata": {},
   "outputs": [],
   "source": [
    "xxx1 = pd.DataFrame(df, )\n",
    "xxx1.to_csv('fuck1.csv', index=False) "
   ]
  },
  {
   "cell_type": "code",
   "execution_count": 5,
   "id": "a24cdb09-9f1c-4850-8c88-2c2bf56c67ae",
   "metadata": {},
   "outputs": [
    {
     "name": "stdout",
     "output_type": "stream",
     "text": [
      "Columns in df1:\n",
      "Index(['cleaned'], dtype='object')\n",
      "\n",
      "Columns in df2:\n",
      "Index(['body', 'class', 'year'], dtype='object')\n"
     ]
    }
   ],
   "source": [
    "import pandas as pd\n",
    "\n",
    "# Load the two CSV files\n",
    "df1 = pd.read_csv('fuck.csv')  # Check what columns are here\n",
    "df2 = pd.read_csv('fuck1.csv')  # Check what columns are here\n",
    "\n",
    "# Print column names for both DataFrames\n",
    "print(\"Columns in df1:\")\n",
    "print(df1.columns)\n",
    "\n",
    "print(\"\\nColumns in df2:\")\n",
    "print(df2.columns)\n"
   ]
  },
  {
   "cell_type": "code",
   "execution_count": 6,
   "id": "64fdb9fd-75ef-4b5f-a2a5-5a23ef2d88ff",
   "metadata": {},
   "outputs": [
    {
     "data": {
      "text/html": [
       "<div>\n",
       "<style scoped>\n",
       "    .dataframe tbody tr th:only-of-type {\n",
       "        vertical-align: middle;\n",
       "    }\n",
       "\n",
       "    .dataframe tbody tr th {\n",
       "        vertical-align: top;\n",
       "    }\n",
       "\n",
       "    .dataframe thead th {\n",
       "        text-align: right;\n",
       "    }\n",
       "</style>\n",
       "<table border=\"1\" class=\"dataframe\">\n",
       "  <thead>\n",
       "    <tr style=\"text-align: right;\">\n",
       "      <th></th>\n",
       "      <th>body</th>\n",
       "      <th>class</th>\n",
       "      <th>year</th>\n",
       "      <th>cleaned</th>\n",
       "    </tr>\n",
       "  </thead>\n",
       "  <tbody>\n",
       "    <tr>\n",
       "      <th>0</th>\n",
       "      <td>ตามที่มีผู้พบเห็นเว็บไซต์ www.gsb-th-online.co...</td>\n",
       "      <td>0</td>\n",
       "      <td>NaN</td>\n",
       "      <td>ผู้พบเห็น เว็บไซต์ ธนาคารออมสิน ปล่อย สินเชื่อ...</td>\n",
       "    </tr>\n",
       "    <tr>\n",
       "      <th>1</th>\n",
       "      <td>ตามที่มีคลิปวิดีโอได้เผยแพร่เนื้อหา เกี่ยวกับป...</td>\n",
       "      <td>0</td>\n",
       "      <td>NaN</td>\n",
       "      <td>คลิป วิดีโอ เผยแพร่ เนื้อหา ประเด็น เรื่อง ดร ...</td>\n",
       "    </tr>\n",
       "    <tr>\n",
       "      <th>2</th>\n",
       "      <td>ตามที่มีการเผยแพร่ข่าวสารในสื่อออนไลน์เรื่อง เ...</td>\n",
       "      <td>0</td>\n",
       "      <td>NaN</td>\n",
       "      <td>เผยแพร่ ข่าวสาร สื่อ ออนไลน์ เรื่อง เอกสาร แถล...</td>\n",
       "    </tr>\n",
       "    <tr>\n",
       "      <th>3</th>\n",
       "      <td>เมื่อวันที่ 27 เมษายน สำนักงานคณะกรรมการการเลื...</td>\n",
       "      <td>0</td>\n",
       "      <td>NaN</td>\n",
       "      <td>วันที่ เมษายน สำนักงาน คณะกรรมการ การเลือกตั้ง...</td>\n",
       "    </tr>\n",
       "    <tr>\n",
       "      <th>4</th>\n",
       "      <td>จากกรณีข่าวลือที่ระบุว่าผู้ว่าจังหวัดภูเก็ตเหม...</td>\n",
       "      <td>0</td>\n",
       "      <td>NaN</td>\n",
       "      <td>กรณี ข่าวลือ ระบุ ผู้ว่า จังหวัด ภูเก็ต เหมา ร...</td>\n",
       "    </tr>\n",
       "    <tr>\n",
       "      <th>...</th>\n",
       "      <td>...</td>\n",
       "      <td>...</td>\n",
       "      <td>...</td>\n",
       "      <td>...</td>\n",
       "    </tr>\n",
       "    <tr>\n",
       "      <th>808</th>\n",
       "      <td>องค์การขนส่งมวลชนกรุงเทพ (ขสมก.) อำนวยความสะดว...</td>\n",
       "      <td>1</td>\n",
       "      <td>09/07/63</td>\n",
       "      <td>องค์ การขนส่งมวลชน กรุงเทพ ขสมก อำนวยความสะดวก...</td>\n",
       "    </tr>\n",
       "    <tr>\n",
       "      <th>809</th>\n",
       "      <td>เมื่อ 14 กรกฎาคม 2563 ที่ประชุมคณะรัฐมนตรี  มี...</td>\n",
       "      <td>1</td>\n",
       "      <td>18/07/63</td>\n",
       "      <td>กรกฎาคม ที่ประชุม คณะรัฐมนตรี มีมติ เห็นชอบ ยก...</td>\n",
       "    </tr>\n",
       "    <tr>\n",
       "      <th>810</th>\n",
       "      <td>ผู้ว่าราชการกรุงเทพมหานคร เปิดเผยว่า เนื่องในว...</td>\n",
       "      <td>1</td>\n",
       "      <td>19/07/63</td>\n",
       "      <td>ผู้ว่าราชการ กรุงเทพมหานคร เนื่องใน วันเฉลิมพร...</td>\n",
       "    </tr>\n",
       "    <tr>\n",
       "      <th>811</th>\n",
       "      <td>นายกฯ สั่งแบล็คลิสต์โรงแรมที่ฉวยโอกาสขึ้นราคาจ...</td>\n",
       "      <td>1</td>\n",
       "      <td>22/07/63</td>\n",
       "      <td>นายกฯ สั่ง แบล็คลิสต์ โรงแรม ฉวยโอกาส ขึ้นราคา...</td>\n",
       "    </tr>\n",
       "    <tr>\n",
       "      <th>812</th>\n",
       "      <td>เนื่องด้วยวันที่ 28 กรกฎาคมของทุกปี เป็นวันเฉล...</td>\n",
       "      <td>1</td>\n",
       "      <td>25/07/63</td>\n",
       "      <td>เนื่องด้วย วันที่ กรกฎาคม ทุกปี วันเฉลิมพระชนม...</td>\n",
       "    </tr>\n",
       "  </tbody>\n",
       "</table>\n",
       "<p>813 rows × 4 columns</p>\n",
       "</div>"
      ],
      "text/plain": [
       "                                                  body  class      year  \\\n",
       "0    ตามที่มีผู้พบเห็นเว็บไซต์ www.gsb-th-online.co...      0       NaN   \n",
       "1    ตามที่มีคลิปวิดีโอได้เผยแพร่เนื้อหา เกี่ยวกับป...      0       NaN   \n",
       "2    ตามที่มีการเผยแพร่ข่าวสารในสื่อออนไลน์เรื่อง เ...      0       NaN   \n",
       "3    เมื่อวันที่ 27 เมษายน สำนักงานคณะกรรมการการเลื...      0       NaN   \n",
       "4    จากกรณีข่าวลือที่ระบุว่าผู้ว่าจังหวัดภูเก็ตเหม...      0       NaN   \n",
       "..                                                 ...    ...       ...   \n",
       "808  องค์การขนส่งมวลชนกรุงเทพ (ขสมก.) อำนวยความสะดว...      1  09/07/63   \n",
       "809  เมื่อ 14 กรกฎาคม 2563 ที่ประชุมคณะรัฐมนตรี  มี...      1  18/07/63   \n",
       "810  ผู้ว่าราชการกรุงเทพมหานคร เปิดเผยว่า เนื่องในว...      1  19/07/63   \n",
       "811  นายกฯ สั่งแบล็คลิสต์โรงแรมที่ฉวยโอกาสขึ้นราคาจ...      1  22/07/63   \n",
       "812  เนื่องด้วยวันที่ 28 กรกฎาคมของทุกปี เป็นวันเฉล...      1  25/07/63   \n",
       "\n",
       "                                               cleaned  \n",
       "0    ผู้พบเห็น เว็บไซต์ ธนาคารออมสิน ปล่อย สินเชื่อ...  \n",
       "1    คลิป วิดีโอ เผยแพร่ เนื้อหา ประเด็น เรื่อง ดร ...  \n",
       "2    เผยแพร่ ข่าวสาร สื่อ ออนไลน์ เรื่อง เอกสาร แถล...  \n",
       "3    วันที่ เมษายน สำนักงาน คณะกรรมการ การเลือกตั้ง...  \n",
       "4    กรณี ข่าวลือ ระบุ ผู้ว่า จังหวัด ภูเก็ต เหมา ร...  \n",
       "..                                                 ...  \n",
       "808  องค์ การขนส่งมวลชน กรุงเทพ ขสมก อำนวยความสะดวก...  \n",
       "809  กรกฎาคม ที่ประชุม คณะรัฐมนตรี มีมติ เห็นชอบ ยก...  \n",
       "810  ผู้ว่าราชการ กรุงเทพมหานคร เนื่องใน วันเฉลิมพร...  \n",
       "811  นายกฯ สั่ง แบล็คลิสต์ โรงแรม ฉวยโอกาส ขึ้นราคา...  \n",
       "812  เนื่องด้วย วันที่ กรกฎาคม ทุกปี วันเฉลิมพระชนม...  \n",
       "\n",
       "[813 rows x 4 columns]"
      ]
     },
     "execution_count": 6,
     "metadata": {},
     "output_type": "execute_result"
    }
   ],
   "source": [
    "df_combined = df2.join(df1)\n",
    "df_combined"
   ]
  },
  {
   "cell_type": "code",
   "execution_count": 7,
   "id": "4d90e689-6a91-4d1c-8693-d8052137c97e",
   "metadata": {},
   "outputs": [],
   "source": [
    "fc = pd.DataFrame(df_combined)\n",
    "fc.to_csv('fc.csv', index=False) "
   ]
  },
  {
   "cell_type": "code",
   "execution_count": 8,
   "id": "8c2cb8ef-5cce-41b8-9b29-3848d0d1b06c",
   "metadata": {},
   "outputs": [
    {
     "name": "stdout",
     "output_type": "stream",
     "text": [
      "Requirement already satisfied: keras in /opt/conda/lib/python3.11/site-packages (3.3.3)\n",
      "Requirement already satisfied: absl-py in /opt/conda/lib/python3.11/site-packages (from keras) (2.1.0)\n",
      "Requirement already satisfied: numpy in /opt/conda/lib/python3.11/site-packages (from keras) (1.24.4)\n",
      "Requirement already satisfied: rich in /opt/conda/lib/python3.11/site-packages (from keras) (13.7.1)\n",
      "Requirement already satisfied: namex in /opt/conda/lib/python3.11/site-packages (from keras) (0.0.8)\n",
      "Requirement already satisfied: h5py in /opt/conda/lib/python3.11/site-packages (from keras) (3.10.0)\n",
      "Requirement already satisfied: optree in /opt/conda/lib/python3.11/site-packages (from keras) (0.11.0)\n",
      "Requirement already satisfied: ml-dtypes in /opt/conda/lib/python3.11/site-packages (from keras) (0.3.2)\n",
      "Requirement already satisfied: typing-extensions>=4.0.0 in /opt/conda/lib/python3.11/site-packages (from optree->keras) (4.8.0)\n",
      "Requirement already satisfied: markdown-it-py>=2.2.0 in /opt/conda/lib/python3.11/site-packages (from rich->keras) (3.0.0)\n",
      "Requirement already satisfied: pygments<3.0.0,>=2.13.0 in /opt/conda/lib/python3.11/site-packages (from rich->keras) (2.16.1)\n",
      "Requirement already satisfied: mdurl~=0.1 in /opt/conda/lib/python3.11/site-packages (from markdown-it-py>=2.2.0->rich->keras) (0.1.2)\n",
      "Note: you may need to restart the kernel to use updated packages.\n"
     ]
    }
   ],
   "source": [
    "pip install keras"
   ]
  },
  {
   "cell_type": "code",
   "execution_count": 9,
   "id": "6f77dfb9-db02-4a2b-a417-8f0a59e7cce6",
   "metadata": {},
   "outputs": [],
   "source": [
    "from tensorflow.keras.preprocessing import sequence\n",
    "from tensorflow.keras.preprocessing.text import Tokenizer\n",
    "\n",
    "def cre_tokenizer(text, filters=''):\n",
    "    tok = Tokenizer(filters=filters)\n",
    "    tok.fit_on_texts(text)\n",
    "    return tok"
   ]
  },
  {
   "cell_type": "code",
   "execution_count": 10,
   "id": "95376db6-1847-4332-86ee-bc2add47f827",
   "metadata": {},
   "outputs": [
    {
     "data": {
      "text/plain": [
       "0      ตามที่มีผู้พบเห็นเว็บไซต์ www.gsb-th-online.co...\n",
       "1      ตามที่มีคลิปวิดีโอได้เผยแพร่เนื้อหา เกี่ยวกับป...\n",
       "2      ตามที่มีการเผยแพร่ข่าวสารในสื่อออนไลน์เรื่อง เ...\n",
       "3      เมื่อวันที่ 27 เมษายน สำนักงานคณะกรรมการการเลื...\n",
       "4      จากกรณีข่าวลือที่ระบุว่าผู้ว่าจังหวัดภูเก็ตเหม...\n",
       "                             ...                        \n",
       "500    องค์การขนส่งมวลชนกรุงเทพ (ขสมก.) อำนวยความสะดว...\n",
       "501    เมื่อ 14 กรกฎาคม 2563 ที่ประชุมคณะรัฐมนตรี  มี...\n",
       "502    ผู้ว่าราชการกรุงเทพมหานคร เปิดเผยว่า เนื่องในว...\n",
       "503    นายกฯ สั่งแบล็คลิสต์โรงแรมที่ฉวยโอกาสขึ้นราคาจ...\n",
       "504    เนื่องด้วยวันที่ 28 กรกฎาคมของทุกปี เป็นวันเฉล...\n",
       "Name: body, Length: 813, dtype: object"
      ]
     },
     "execution_count": 10,
     "metadata": {},
     "output_type": "execute_result"
    }
   ],
   "source": [
    "df.body"
   ]
  },
  {
   "cell_type": "code",
   "execution_count": 11,
   "id": "265d0533-1b98-4e94-b755-2a8b7feeb9f5",
   "metadata": {},
   "outputs": [
    {
     "name": "stdout",
     "output_type": "stream",
     "text": [
      "2.7.17\n"
     ]
    }
   ],
   "source": [
    "import fastai\n",
    "print(fastai.__version__)"
   ]
  },
  {
   "cell_type": "code",
   "execution_count": 17,
   "id": "28361b22-ebbd-4608-a5c0-f0c105cb610f",
   "metadata": {},
   "outputs": [
    {
     "data": {
      "text/plain": [
       "Index(['body', 'class', 'year', 'cleaned'], dtype='object')"
      ]
     },
     "execution_count": 17,
     "metadata": {},
     "output_type": "execute_result"
    }
   ],
   "source": [
    "fc.columns"
   ]
  },
  {
   "cell_type": "code",
   "execution_count": 19,
   "id": "e0d1427d-7530-47e1-92f3-a297cb0316cf",
   "metadata": {},
   "outputs": [],
   "source": [
    "import fastai\n",
    "from fastai.text import *\n",
    "from fastai.callback.all import CSVLogger, SaveModelCallback\n",
    "from pythainlp.ulmfit import *\n",
    "from sklearn.model_selection import train_test_split\n",
    "\n",
    "model_path = \"wisesight_data/\"\n",
    "all_df = pd.read_csv(\"fc.csv\")\n",
    "train_df, valid_df = train_test_split(all_df, test_size=0.15, random_state=1412)\n"
   ]
  },
  {
   "cell_type": "code",
   "execution_count": 20,
   "id": "4ea25d1e-3eb3-4825-bb22-7731596afabc",
   "metadata": {},
   "outputs": [
    {
     "data": {
      "text/html": [
       "\n",
       "<style>\n",
       "    /* Turns off some styling */\n",
       "    progress {\n",
       "        /* gets rid of default border in Firefox and Opera. */\n",
       "        border: none;\n",
       "        /* Needs to be in here for Safari polyfill so background images work as expected. */\n",
       "        background-size: auto;\n",
       "    }\n",
       "    progress:not([value]), progress:not([value])::-webkit-progress-bar {\n",
       "        background: repeating-linear-gradient(45deg, #7e7e7e, #7e7e7e 10px, #5c5c5c 10px, #5c5c5c 20px);\n",
       "    }\n",
       "    .progress-bar-interrupted, .progress-bar-interrupted::-webkit-progress-bar {\n",
       "        background: #F44336;\n",
       "    }\n",
       "</style>\n"
      ],
      "text/plain": [
       "<IPython.core.display.HTML object>"
      ]
     },
     "metadata": {},
     "output_type": "display_data"
    },
    {
     "data": {
      "text/html": [],
      "text/plain": [
       "<IPython.core.display.HTML object>"
      ]
     },
     "metadata": {},
     "output_type": "display_data"
    },
    {
     "data": {
      "text/html": [
       "<table border=\"1\" class=\"dataframe\">\n",
       "  <thead>\n",
       "    <tr style=\"text-align: right;\">\n",
       "      <th></th>\n",
       "      <th>text</th>\n",
       "      <th>text_</th>\n",
       "    </tr>\n",
       "  </thead>\n",
       "  <tbody>\n",
       "    <tr>\n",
       "      <th>0</th>\n",
       "      <td>xxbos โพสต์ แชร์ ข้อ ความใน สื่อ ประเด็น เรื่อง ปัสสาวะ หยอด จมูก รักษาโรค ไซนัส ศูนย์ ต่อต้าน ข่าว ปลอม ดำเนินการ ตรวจสอบ ข้อเท็จจริง กรมการแพทย์ กระทรวงสาธารณสุข ประเด็น ข้อมูล เท็จ โพสต์ ข้อความ รักษาโรค ไซนัส น้ำ ปัสสาวะ หยอด จมูก อาการ ดีขึ้น หายขาด ในที่สุด กรมการแพทย์ กระทรวงสาธารณสุข ตรวจสอบ ชี้แจง งานวิจัย ทางการแพทย์ คลินิก น่าเชื่อถือ รองรับ น้ำ ปัสสาวะ ของเสีย สาร ร่างกาย ไต ขับ ออกมา xxunk เกลือแร่ แคลเซียม โซเดียม xxunk สาร สะสม มากเกินไป เป็นอันตราย ร่างกาย ภาวะ ความดันโลหิต น้ำท่วม ปอด หัวใจวาย หัว ใจเต้น xxunk</td>\n",
       "      <td>โพสต์ แชร์ ข้อ ความใน สื่อ ประเด็น เรื่อง ปัสสาวะ หยอด จมูก รักษาโรค ไซนัส ศูนย์ ต่อต้าน ข่าว ปลอม ดำเนินการ ตรวจสอบ ข้อเท็จจริง กรมการแพทย์ กระทรวงสาธารณสุข ประเด็น ข้อมูล เท็จ โพสต์ ข้อความ รักษาโรค ไซนัส น้ำ ปัสสาวะ หยอด จมูก อาการ ดีขึ้น หายขาด ในที่สุด กรมการแพทย์ กระทรวงสาธารณสุข ตรวจสอบ ชี้แจง งานวิจัย ทางการแพทย์ คลินิก น่าเชื่อถือ รองรับ น้ำ ปัสสาวะ ของเสีย สาร ร่างกาย ไต ขับ ออกมา xxunk เกลือแร่ แคลเซียม โซเดียม xxunk สาร สะสม มากเกินไป เป็นอันตราย ร่างกาย ภาวะ ความดันโลหิต น้ำท่วม ปอด หัวใจวาย หัว ใจเต้น xxunk ร่างกาย</td>\n",
       "    </tr>\n",
       "    <tr>\n",
       "      <th>1</th>\n",
       "      <td>ฟรี ประเทศ ยกเลิก วีซ่า ประเทศ มีมติ ที่ประชุม ศูนย์ บริหาร สถานการณ์ แพร่ระบาด หน่วยงาน การแก้ปัญหา แพร่ระบาด xxunk โดยสรุป เดินทาง มาจาก ประเทศ เสี่ยง จีน อิตาลี อิหร่าน เกาหลีใต้ วีซ่า สถานทูต ป้องกัน คน ประเทศ เสี่ยง เข้ามา ยกเลิก วีซ่า ฟรี อิตาลี เกาหลี ฮ่องกง เป็นการชั่วคราว ยกเลิก ประเทศ xxunk xxunk จีน ไต้หวัน xxunk xxunk สาธารณรัฐ xxunk xxunk อินเดีย xxunk xxunk xxunk xxunk ปา xxunk xxunk xxunk รัสเซีย ซาอุ ดิ อาระเบีย xxunk xxunk อายุ ประเทศ สาธารณรัฐ ประชาชน จีน เดือน เมษายน มาตรการ</td>\n",
       "      <td>ประเทศ ยกเลิก วีซ่า ประเทศ มีมติ ที่ประชุม ศูนย์ บริหาร สถานการณ์ แพร่ระบาด หน่วยงาน การแก้ปัญหา แพร่ระบาด xxunk โดยสรุป เดินทาง มาจาก ประเทศ เสี่ยง จีน อิตาลี อิหร่าน เกาหลีใต้ วีซ่า สถานทูต ป้องกัน คน ประเทศ เสี่ยง เข้ามา ยกเลิก วีซ่า ฟรี อิตาลี เกาหลี ฮ่องกง เป็นการชั่วคราว ยกเลิก ประเทศ xxunk xxunk จีน ไต้หวัน xxunk xxunk สาธารณรัฐ xxunk xxunk อินเดีย xxunk xxunk xxunk xxunk ปา xxunk xxunk xxunk รัสเซีย ซาอุ ดิ อาระเบีย xxunk xxunk อายุ ประเทศ สาธารณรัฐ ประชาชน จีน เดือน เมษายน มาตรการ มาตรการ</td>\n",
       "    </tr>\n",
       "    <tr>\n",
       "      <th>2</th>\n",
       "      <td>ข้อมูล ชี้แจง การกระทำ การกระทำ มิจฉาชีพ กรม นโยบาย เจ้าหน้าที่ โทรศัพท์ ติดต่อ ประชาชน ค่าธรรมเนียม ประชาชน อย่า หลงเชื่อ กรณี ค่าธรรมเนียม ผู้ใช้ ชำระ ค่าธรรมเนียม ทางได้ ช่องทาง เว็บไซต์ แอปพลิเคชัน กรอก หมายเลข ทะเบียนรถ ท่าน ค้นหา เลือก วิธีการ ชำระเงิน xxbos ส่งต่อ ข้อมูล เรื่อง พฤติ กรรมการ ดูด นิ้ว กัด เล็บ เด็ก xxunk xxunk สถาบัน สุขภาพ เด็ก แห่งชาติ มหา ราชินี กรมการแพทย์ กระทรวงสาธารณสุข ตรวจสอบ ชี้แจง พฤติ กรรมการ ดูด นิ้ว กัด เล็บ พฤติกรรม เด็ก ปกติ โดยเฉพาะ เด็กเล็ก หาย อายุ ขวบ อย่างไรก็ตาม เด็ก xxunk</td>\n",
       "      <td>ชี้แจง การกระทำ การกระทำ มิจฉาชีพ กรม นโยบาย เจ้าหน้าที่ โทรศัพท์ ติดต่อ ประชาชน ค่าธรรมเนียม ประชาชน อย่า หลงเชื่อ กรณี ค่าธรรมเนียม ผู้ใช้ ชำระ ค่าธรรมเนียม ทางได้ ช่องทาง เว็บไซต์ แอปพลิเคชัน กรอก หมายเลข ทะเบียนรถ ท่าน ค้นหา เลือก วิธีการ ชำระเงิน xxbos ส่งต่อ ข้อมูล เรื่อง พฤติ กรรมการ ดูด นิ้ว กัด เล็บ เด็ก xxunk xxunk สถาบัน สุขภาพ เด็ก แห่งชาติ มหา ราชินี กรมการแพทย์ กระทรวงสาธารณสุข ตรวจสอบ ชี้แจง พฤติ กรรมการ ดูด นิ้ว กัด เล็บ พฤติกรรม เด็ก ปกติ โดยเฉพาะ เด็กเล็ก หาย อายุ ขวบ อย่างไรก็ตาม เด็ก xxunk xxunk</td>\n",
       "    </tr>\n",
       "    <tr>\n",
       "      <th>3</th>\n",
       "      <td>ฉบับ xxunk ชัดเจน คำถาม คน โดยเฉพาะ สนใจ xxunk สว ข้อสงสัย จำนวนมาก ประกาศ คุณสมบัติ กลุ่มอาชีพ xxunk โดยละเอียด กลุ่มอาชีพ ผู้สมัคร สว เลือก สมัคร คัดเลือก ระเบียบ แนะนำตัว ผู้สมัคร ผู้สมัคร แนะนำตัว รณรงค์ ผู้สมัคร ประกาศ จุดยืน แนว ทางใน ปฏิบัติหน้าที่ จุดยืน เรื่อง รัฐธรรมนูญ ประชาชน ทั่วไป แนะนำตัว รณรงค์ ผู้สมัคร สนับสนุน พริษฐ์ ระบุ ต่อว่า ผม หวัง กก ต เร่ง หา ข้อสรุป เผยแพร่ ระเบียบ ประกาศ โดยเร็ว ออกแบบ xxunk กติกา ระเบียบ ประกาศ xxunk ผู้สมัคร แต่ละคน แนะนำ ครอบคลุม ผู้สมัคร สิทธิ เลือก สว เข้าถึง</td>\n",
       "      <td>xxunk ชัดเจน คำถาม คน โดยเฉพาะ สนใจ xxunk สว ข้อสงสัย จำนวนมาก ประกาศ คุณสมบัติ กลุ่มอาชีพ xxunk โดยละเอียด กลุ่มอาชีพ ผู้สมัคร สว เลือก สมัคร คัดเลือก ระเบียบ แนะนำตัว ผู้สมัคร ผู้สมัคร แนะนำตัว รณรงค์ ผู้สมัคร ประกาศ จุดยืน แนว ทางใน ปฏิบัติหน้าที่ จุดยืน เรื่อง รัฐธรรมนูญ ประชาชน ทั่วไป แนะนำตัว รณรงค์ ผู้สมัคร สนับสนุน พริษฐ์ ระบุ ต่อว่า ผม หวัง กก ต เร่ง หา ข้อสรุป เผยแพร่ ระเบียบ ประกาศ โดยเร็ว ออกแบบ xxunk กติกา ระเบียบ ประกาศ xxunk ผู้สมัคร แต่ละคน แนะนำ ครอบคลุม ผู้สมัคร สิทธิ เลือก สว เข้าถึง ข้อมูล</td>\n",
       "    </tr>\n",
       "    <tr>\n",
       "      <th>4</th>\n",
       "      <td>เดินทาง เข้ามา ในประเทศ ไทย ยื่นคำขอ ถิ่น ที่อยู่ ในประเทศ ไทย ต่อไป ส่งเสริม คนต่างด้าว เข้ามา ลงทุน ทำงาน ในประเทศ ไทย xxunk การลงทุน เข้าสู่ ประเทศ สร้าง ความเชื่อมั่น ชาวต่างชาติ ต้องการ เข้ามา ลงทุน ส่งเสริม ครอบครัว ความมั่นคง xxunk ถิ่น ที่อยู่ ราชอาณาจักร คนต่างด้าว ปัจจัย ที่จะ สร้าง ความเชื่อมั่น ชาวต่างชาติ ต้องการ เข้ามา ในประเทศ ไทย ปลอดภัย xxunk อย่างไรก็ตาม เข้ามา ในประเทศ ไทย ชาวต่างชาติ xxunk สังคม ไทย มีเหตุผล ต้องการ เข้ามา ถิ่น ที่อยู่ ถาวร ในประเทศ ไทย เข้ามา ทำงาน การลงทุน ครอบครัว คู่สมรส บุตร ที่อยู่ ในประเทศ ไทย สนับสนุน</td>\n",
       "      <td>เข้ามา ในประเทศ ไทย ยื่นคำขอ ถิ่น ที่อยู่ ในประเทศ ไทย ต่อไป ส่งเสริม คนต่างด้าว เข้ามา ลงทุน ทำงาน ในประเทศ ไทย xxunk การลงทุน เข้าสู่ ประเทศ สร้าง ความเชื่อมั่น ชาวต่างชาติ ต้องการ เข้ามา ลงทุน ส่งเสริม ครอบครัว ความมั่นคง xxunk ถิ่น ที่อยู่ ราชอาณาจักร คนต่างด้าว ปัจจัย ที่จะ สร้าง ความเชื่อมั่น ชาวต่างชาติ ต้องการ เข้ามา ในประเทศ ไทย ปลอดภัย xxunk อย่างไรก็ตาม เข้ามา ในประเทศ ไทย ชาวต่างชาติ xxunk สังคม ไทย มีเหตุผล ต้องการ เข้ามา ถิ่น ที่อยู่ ถาวร ในประเทศ ไทย เข้ามา ทำงาน การลงทุน ครอบครัว คู่สมรส บุตร ที่อยู่ ในประเทศ ไทย สนับสนุน ชาวต่างชาติ</td>\n",
       "    </tr>\n",
       "  </tbody>\n",
       "</table>"
      ],
      "text/plain": [
       "<IPython.core.display.HTML object>"
      ]
     },
     "metadata": {},
     "output_type": "display_data"
    },
    {
     "data": {
      "text/html": [
       "\n",
       "<style>\n",
       "    /* Turns off some styling */\n",
       "    progress {\n",
       "        /* gets rid of default border in Firefox and Opera. */\n",
       "        border: none;\n",
       "        /* Needs to be in here for Safari polyfill so background images work as expected. */\n",
       "        background-size: auto;\n",
       "    }\n",
       "    progress:not([value]), progress:not([value])::-webkit-progress-bar {\n",
       "        background: repeating-linear-gradient(45deg, #7e7e7e, #7e7e7e 10px, #5c5c5c 10px, #5c5c5c 20px);\n",
       "    }\n",
       "    .progress-bar-interrupted, .progress-bar-interrupted::-webkit-progress-bar {\n",
       "        background: #F44336;\n",
       "    }\n",
       "</style>\n"
      ],
      "text/plain": [
       "<IPython.core.display.HTML object>"
      ]
     },
     "metadata": {},
     "output_type": "display_data"
    },
    {
     "data": {
      "text/html": [
       "<table border=\"1\" class=\"dataframe\">\n",
       "  <thead>\n",
       "    <tr style=\"text-align: left;\">\n",
       "      <th>epoch</th>\n",
       "      <th>train_loss</th>\n",
       "      <th>valid_loss</th>\n",
       "      <th>time</th>\n",
       "    </tr>\n",
       "  </thead>\n",
       "  <tbody>\n",
       "    <tr>\n",
       "      <td>0</td>\n",
       "      <td>8.250541</td>\n",
       "      <td>7.592573</td>\n",
       "      <td>01:14</td>\n",
       "    </tr>\n",
       "  </tbody>\n",
       "</table>"
      ],
      "text/plain": [
       "<IPython.core.display.HTML object>"
      ]
     },
     "metadata": {},
     "output_type": "display_data"
    }
   ],
   "source": [
    "from fastai.text.all import *\n",
    "import pickle\n",
    "\n",
    "# Assuming ThaiTokenizer is your custom tokenizer\n",
    "tt = ThaiTokenizer()\n",
    "data_lm = TextDataLoaders.from_df(all_df, text_col='cleaned', is_lm=True, tok=tt, bs=48)\n",
    "\n",
    "# Preview the data\n",
    "data_lm.show_batch(max_n=5)\n",
    "\n",
    "# Save the DataLoaders using pickle\n",
    "with open('wisesight_dls.pkl', 'wb') as f:\n",
    "    pickle.dump(data_lm, f)\n",
    "\n",
    "# Load the DataLoaders\n",
    "with open('wisesight_dls.pkl', 'rb') as f:\n",
    "    data_lm = pickle.load(f)\n",
    "\n",
    "# Optionally, train a language model and save it\n",
    "learn = language_model_learner(data_lm, AWD_LSTM, drop_mult=0.5)\n",
    "learn.fit_one_cycle(1, 1e-2)\n",
    "\n",
    "# Save the model\n",
    "learn.save('wisesight_lm_model')\n",
    "\n",
    "# Export the Learner\n",
    "learn.export('wisesight_lm_export.pkl')\n"
   ]
  },
  {
   "cell_type": "code",
   "execution_count": 21,
   "id": "45a570c8-1cbb-448c-9577-74f25eba42ef",
   "metadata": {},
   "outputs": [
    {
     "data": {
      "text/html": [
       "\n",
       "<style>\n",
       "    /* Turns off some styling */\n",
       "    progress {\n",
       "        /* gets rid of default border in Firefox and Opera. */\n",
       "        border: none;\n",
       "        /* Needs to be in here for Safari polyfill so background images work as expected. */\n",
       "        background-size: auto;\n",
       "    }\n",
       "    progress:not([value]), progress:not([value])::-webkit-progress-bar {\n",
       "        background: repeating-linear-gradient(45deg, #7e7e7e, #7e7e7e 10px, #5c5c5c 10px, #5c5c5c 20px);\n",
       "    }\n",
       "    .progress-bar-interrupted, .progress-bar-interrupted::-webkit-progress-bar {\n",
       "        background: #F44336;\n",
       "    }\n",
       "</style>\n"
      ],
      "text/plain": [
       "<IPython.core.display.HTML object>"
      ]
     },
     "metadata": {},
     "output_type": "display_data"
    },
    {
     "data": {
      "text/html": [],
      "text/plain": [
       "<IPython.core.display.HTML object>"
      ]
     },
     "metadata": {},
     "output_type": "display_data"
    },
    {
     "data": {
      "text/html": [
       "<table border=\"1\" class=\"dataframe\">\n",
       "  <thead>\n",
       "    <tr style=\"text-align: right;\">\n",
       "      <th></th>\n",
       "      <th>text</th>\n",
       "      <th>text_</th>\n",
       "    </tr>\n",
       "  </thead>\n",
       "  <tbody>\n",
       "    <tr>\n",
       "      <th>0</th>\n",
       "      <td>xxbos ย ศูนย์ ต่อต้าน ข่าว ปลอม ประเทศ ไทย เผยแพร่ ข้อมูล ประเด็น เรื่อง ครม ประกาศ วันที่ สค ทุกปี ผ้า ไทย แห่งชาติ ศูนย์ ต่อต้าน ข่าว ปลอม ตรวจสอบ ข้อเท็จจริง กรมประชาสัมพันธ์ สำนักนายกรัฐมนตรี ประเด็น ข้อมูลจริง คณะรัฐมนตรี ครม มีมติ เห็นชอบ วันที่ สิงหาคม ทุกปี ผ้า ไทย แห่งชาติ กระทรวง วัฒนธรรม xxunk เสนอ เนื่องใน โอกาส มหา มงคล xxunk พรรษา สมเด็จพระนางเจ้า สิริกิติ์ พระบรมราชินีนาถ พระ บรม ราช ชนนี พันปี หลวง สิงหาคม พุทธศักราช รัฐบาล นโยบาย เฉลิมพระเกียรติ สมเด็จพระนางเจ้า สิริกิติ์ พระบรมราชินีนาถ พระ บรม ราช ชนนี พันปี</td>\n",
       "      <td>ย ศูนย์ ต่อต้าน ข่าว ปลอม ประเทศ ไทย เผยแพร่ ข้อมูล ประเด็น เรื่อง ครม ประกาศ วันที่ สค ทุกปี ผ้า ไทย แห่งชาติ ศูนย์ ต่อต้าน ข่าว ปลอม ตรวจสอบ ข้อเท็จจริง กรมประชาสัมพันธ์ สำนักนายกรัฐมนตรี ประเด็น ข้อมูลจริง คณะรัฐมนตรี ครม มีมติ เห็นชอบ วันที่ สิงหาคม ทุกปี ผ้า ไทย แห่งชาติ กระทรวง วัฒนธรรม xxunk เสนอ เนื่องใน โอกาส มหา มงคล xxunk พรรษา สมเด็จพระนางเจ้า สิริกิติ์ พระบรมราชินีนาถ พระ บรม ราช ชนนี พันปี หลวง สิงหาคม พุทธศักราช รัฐบาล นโยบาย เฉลิมพระเกียรติ สมเด็จพระนางเจ้า สิริกิติ์ พระบรมราชินีนาถ พระ บรม ราช ชนนี พันปี หลวง</td>\n",
       "    </tr>\n",
       "    <tr>\n",
       "      <th>1</th>\n",
       "      <td>การสำรอง การผลิต สอดคล้อง สถานการณ์ ระบาด โรค โควิด xxbos ครม เห็นชอบ การทบทวน มติ ครม วันที่ ตค เรื่อง เดินรถ ขนส่ง ต่างจังหวัด เดิม บริษัท ขนส่ง จำกัด บขส รับภาระ เดิน รถโดยสาร บขส ภารกิจ การขนส่ง ผู้โดยสาร ขนส่งสินค้า พัสดุภัณฑ์ กระทรวงคมนาคม เสนอ บขส ดำเนินกิจการ ขนส่งสินค้า พัสดุภัณฑ์ เต็ม ประสิทธิภาพ พัฒนา ขยาย ธุรกิจ ประโยชน์ องค์กร ย ศูนย์ ต่อต้าน ข่าว ปลอม ประเทศ ไทย เผยแพร่ ข้อมูล ประเด็น เรื่อง ครม อนุมัติ บขส ขนส่งสินค้า พัสดุภัณฑ์ ศูนย์ ต่อต้าน ข่าว ปลอม ตรวจสอบ ข้อเท็จจริง กรมประชาสัมพันธ์ สำนักนายกรัฐมนตรี ประเด็น ข้อมูลจริง</td>\n",
       "      <td>การผลิต สอดคล้อง สถานการณ์ ระบาด โรค โควิด xxbos ครม เห็นชอบ การทบทวน มติ ครม วันที่ ตค เรื่อง เดินรถ ขนส่ง ต่างจังหวัด เดิม บริษัท ขนส่ง จำกัด บขส รับภาระ เดิน รถโดยสาร บขส ภารกิจ การขนส่ง ผู้โดยสาร ขนส่งสินค้า พัสดุภัณฑ์ กระทรวงคมนาคม เสนอ บขส ดำเนินกิจการ ขนส่งสินค้า พัสดุภัณฑ์ เต็ม ประสิทธิภาพ พัฒนา ขยาย ธุรกิจ ประโยชน์ องค์กร ย ศูนย์ ต่อต้าน ข่าว ปลอม ประเทศ ไทย เผยแพร่ ข้อมูล ประเด็น เรื่อง ครม อนุมัติ บขส ขนส่งสินค้า พัสดุภัณฑ์ ศูนย์ ต่อต้าน ข่าว ปลอม ตรวจสอบ ข้อเท็จจริง กรมประชาสัมพันธ์ สำนักนายกรัฐมนตรี ประเด็น ข้อมูลจริง คณะรัฐมนตรี</td>\n",
       "    </tr>\n",
       "    <tr>\n",
       "      <th>2</th>\n",
       "      <td>ทำงาน วันหยุด xxbos กรณี โพสต์ แนะนำ ระบุ รับประทาน xxunk น้ำผึ้ง มะนาว ต่อเนื่อง นิ่ว xxunk หลุด ออกมา โรงพยาบาล ราชวิถี กรมการแพทย์ กระทรวงสาธารณสุข ตรวจสอบ ข้อมูล ชี้แจง xxunk น้ำผึ้ง มะนาว อาหาร ประเภท ไขมัน ต่ำ xxunk มีผล ลด นิ่ว เป็นประโยชน์ ร่างกาย ภาพรวม มีผลต่อ หลุด นิ่ว ยา การละลาย นิ่ว ชนิด xxunk xxunk ผลข้างเคียง xxunk การละลาย นิ่ว คนไทย ส่วนประกอบ หินปูน ชนิด xxunk การรักษา xxbos กรมทรัพย์สินทางปัญญา ประกาศ ขึ้นทะเบียน บ่ง xxunk xxunk รายการ มังคุด ทิพย์ พังงา พืชเศรษฐกิจ จังหวัด พังงา xxunk มีชื่อเสียง</td>\n",
       "      <td>วันหยุด xxbos กรณี โพสต์ แนะนำ ระบุ รับประทาน xxunk น้ำผึ้ง มะนาว ต่อเนื่อง นิ่ว xxunk หลุด ออกมา โรงพยาบาล ราชวิถี กรมการแพทย์ กระทรวงสาธารณสุข ตรวจสอบ ข้อมูล ชี้แจง xxunk น้ำผึ้ง มะนาว อาหาร ประเภท ไขมัน ต่ำ xxunk มีผล ลด นิ่ว เป็นประโยชน์ ร่างกาย ภาพรวม มีผลต่อ หลุด นิ่ว ยา การละลาย นิ่ว ชนิด xxunk xxunk ผลข้างเคียง xxunk การละลาย นิ่ว คนไทย ส่วนประกอบ หินปูน ชนิด xxunk การรักษา xxbos กรมทรัพย์สินทางปัญญา ประกาศ ขึ้นทะเบียน บ่ง xxunk xxunk รายการ มังคุด ทิพย์ พังงา พืชเศรษฐกิจ จังหวัด พังงา xxunk มีชื่อเสียง ผลผลิต</td>\n",
       "    </tr>\n",
       "    <tr>\n",
       "      <th>3</th>\n",
       "      <td>การเมือง ศูนย์ ต่อต้าน ข่าว ปลอม ดำเนินการ ตรวจสอบ ข้อเท็จจริง ธนาคารแห่งประเทศไทย กระทรวงการคลัง ประเด็น ข้อมูล เท็จ กรณี เผยแพร่ คลิป วิดีโอ เนื้อหา xxunk ผู้ว่าการ แบงก์ ชาติ ระบุ ผู้ว่าการ แบงก์ ชาติ ความเห็น วิจารณ์ การเมือง ธนาคาร ประเทศ ไท ยธ ปท ตรวจสอบ เรื่อง ชี้แจง การนำ xxunk พิเศษ งาน สัมมนา ออนไลน์ โอกาส xxunk ปี xxunk การเงิน ธนาคาร หัวข้อ xxunk xxunk เศรษฐกิจ ไทย ยุค โควิด ผู้ว่าการ ธนาคารแห่งประเทศไทย รายงาน ปน ข่าว ท่าน นายกฯ ทำให้เกิด เข้าใจผิด ท่าน ผู้ว่า xxunk การเมือง xxbos เลขาธิการ คณะกรรมการ</td>\n",
       "      <td>ศูนย์ ต่อต้าน ข่าว ปลอม ดำเนินการ ตรวจสอบ ข้อเท็จจริง ธนาคารแห่งประเทศไทย กระทรวงการคลัง ประเด็น ข้อมูล เท็จ กรณี เผยแพร่ คลิป วิดีโอ เนื้อหา xxunk ผู้ว่าการ แบงก์ ชาติ ระบุ ผู้ว่าการ แบงก์ ชาติ ความเห็น วิจารณ์ การเมือง ธนาคาร ประเทศ ไท ยธ ปท ตรวจสอบ เรื่อง ชี้แจง การนำ xxunk พิเศษ งาน สัมมนา ออนไลน์ โอกาส xxunk ปี xxunk การเงิน ธนาคาร หัวข้อ xxunk xxunk เศรษฐกิจ ไทย ยุค โควิด ผู้ว่าการ ธนาคารแห่งประเทศไทย รายงาน ปน ข่าว ท่าน นายกฯ ทำให้เกิด เข้าใจผิด ท่าน ผู้ว่า xxunk การเมือง xxbos เลขาธิการ คณะกรรมการ กิจการ</td>\n",
       "    </tr>\n",
       "    <tr>\n",
       "      <th>4</th>\n",
       "      <td>สิ่งแวดล้อม ความสมบูรณ์ มาตรการ อาทิ ป่าชายเลน แหล่ง หญ้า ทะเล xxunk การฟื้นฟู บริหาร ทรัพยากร ประมง เชิง xxunk สำหรับ ชุมชน xxunk พื้นที่ อนุรักษ์ ขยะ ทะเล คืน ฝั่ง ธนาคาร ขยะ ทะเล ลด ถุงพลาสติก เรือประมง พาณิชย์ ประเมิน ปริมาณ ขยะ พื้น xxunk อ่าวไทย การปรับปรุง ชีวิต ความเป็นอยู่ ชาวประมง พื้นบ้าน ชุมชน ประมง xxunk มาตรการ อาทิ สร้าง ความเข้มแข็ง คณะกรรมการ ประมง ประจำจังหวัด ระบบ บันทึก จำนวน เรือประมง พื้นบ้าน สิทธิ ทำ ประมง ความเหมาะสม เป็นธรรม ปรับปรุง กระบวนการ สัตว์น้ำ ต่อเนื่อง มูลค่า สัตว์น้ำ ช่องทาง การตลาด ลด ของเสีย</td>\n",
       "      <td>ความสมบูรณ์ มาตรการ อาทิ ป่าชายเลน แหล่ง หญ้า ทะเล xxunk การฟื้นฟู บริหาร ทรัพยากร ประมง เชิง xxunk สำหรับ ชุมชน xxunk พื้นที่ อนุรักษ์ ขยะ ทะเล คืน ฝั่ง ธนาคาร ขยะ ทะเล ลด ถุงพลาสติก เรือประมง พาณิชย์ ประเมิน ปริมาณ ขยะ พื้น xxunk อ่าวไทย การปรับปรุง ชีวิต ความเป็นอยู่ ชาวประมง พื้นบ้าน ชุมชน ประมง xxunk มาตรการ อาทิ สร้าง ความเข้มแข็ง คณะกรรมการ ประมง ประจำจังหวัด ระบบ บันทึก จำนวน เรือประมง พื้นบ้าน สิทธิ ทำ ประมง ความเหมาะสม เป็นธรรม ปรับปรุง กระบวนการ สัตว์น้ำ ต่อเนื่อง มูลค่า สัตว์น้ำ ช่องทาง การตลาด ลด ของเสีย ศักยภาพ</td>\n",
       "    </tr>\n",
       "  </tbody>\n",
       "</table>"
      ],
      "text/plain": [
       "<IPython.core.display.HTML object>"
      ]
     },
     "metadata": {},
     "output_type": "display_data"
    },
    {
     "name": "stdout",
     "output_type": "stream",
     "text": [
      "Training dataset length: 651\n",
      "Validation dataset length: 162\n"
     ]
    },
    {
     "data": {
      "text/html": [
       "\n",
       "<style>\n",
       "    /* Turns off some styling */\n",
       "    progress {\n",
       "        /* gets rid of default border in Firefox and Opera. */\n",
       "        border: none;\n",
       "        /* Needs to be in here for Safari polyfill so background images work as expected. */\n",
       "        background-size: auto;\n",
       "    }\n",
       "    progress:not([value]), progress:not([value])::-webkit-progress-bar {\n",
       "        background: repeating-linear-gradient(45deg, #7e7e7e, #7e7e7e 10px, #5c5c5c 10px, #5c5c5c 20px);\n",
       "    }\n",
       "    .progress-bar-interrupted, .progress-bar-interrupted::-webkit-progress-bar {\n",
       "        background: #F44336;\n",
       "    }\n",
       "</style>\n"
      ],
      "text/plain": [
       "<IPython.core.display.HTML object>"
      ]
     },
     "metadata": {},
     "output_type": "display_data"
    },
    {
     "data": {
      "text/html": [
       "<table border=\"1\" class=\"dataframe\">\n",
       "  <thead>\n",
       "    <tr style=\"text-align: left;\">\n",
       "      <th>epoch</th>\n",
       "      <th>train_loss</th>\n",
       "      <th>valid_loss</th>\n",
       "      <th>time</th>\n",
       "    </tr>\n",
       "  </thead>\n",
       "  <tbody>\n",
       "    <tr>\n",
       "      <td>0</td>\n",
       "      <td>8.146541</td>\n",
       "      <td>7.422495</td>\n",
       "      <td>01:12</td>\n",
       "    </tr>\n",
       "  </tbody>\n",
       "</table>"
      ],
      "text/plain": [
       "<IPython.core.display.HTML object>"
      ]
     },
     "metadata": {},
     "output_type": "display_data"
    }
   ],
   "source": [
    "from fastai.text.all import *\n",
    "\n",
    "# Assuming ThaiTokenizer is your custom tokenizer\n",
    "tt = ThaiTokenizer()\n",
    "data_lm = TextDataLoaders.from_df(all_df, text_col='cleaned', is_lm=True, tok=tt, bs=48)\n",
    "\n",
    "# Show a batch to inspect the data\n",
    "data_lm.show_batch(max_n=5)\n",
    "\n",
    "# Check the number of items in train and validation datasets\n",
    "train_len = len(data_lm.train_ds)\n",
    "valid_len = len(data_lm.valid_ds)\n",
    "\n",
    "print(f\"Training dataset length: {train_len}\")\n",
    "print(f\"Validation dataset length: {valid_len}\")\n",
    "\n",
    "# Optionally, train a language model to ensure everything is working\n",
    "learn = language_model_learner(data_lm, AWD_LSTM, drop_mult=0.5)\n",
    "learn.fit_one_cycle(1, 1e-2)\n",
    "\n",
    "# Save the model\n",
    "learn.save('wisesight_lm_model')\n",
    "\n",
    "# Export the Learner\n",
    "learn.export('wisesight_lm_export.pkl')\n"
   ]
  },
  {
   "cell_type": "code",
   "execution_count": null,
   "id": "714e9340-98d2-4c43-b1fd-71e2a830a045",
   "metadata": {},
   "outputs": [],
   "source": [
    "# tt = Tokenizer(tok_func=ThaiTokenizer, lang=\"th\", pre_rules=pre_rules_th, post_rules=post_rules_th)\n",
    "# processor = [TokenizeProcessor(tokenizer=tt, chunksize=10000, mark_fields=False),\n",
    "#             NumericalizeProcessor(vocab=None, max_vocab=60000, min_freq=2)]\n",
    "\n",
    "# data_lm = (TextList.from_df(all_df, model_path, cols=\"body\", processor=processor)\n",
    "#     .split_by_rand_pct(valid_pct = 0.01, seed = 1412)\n",
    "#     .label_for_lm()\n",
    "#     .databunch(bs=48))\n",
    "# data_lm.sanity_check()\n",
    "# data_lm.save('wisesight_lm.pkl')"
   ]
  },
  {
   "cell_type": "code",
   "execution_count": 22,
   "id": "edf9d2b5-d9de-4a24-af05-3fd86e847767",
   "metadata": {},
   "outputs": [
    {
     "data": {
      "text/plain": [
       "<fastai.text.learner.LMLearner at 0xfffefe21b250>"
      ]
     },
     "execution_count": 22,
     "metadata": {},
     "output_type": "execute_result"
    }
   ],
   "source": [
    "from fastai.callback.all import GradientClip\n",
    "\n",
    "# Configuration without 'clip'\n",
    "config = dict(\n",
    "    emb_sz=400, \n",
    "    n_hid=1550, \n",
    "    n_layers=4, \n",
    "    pad_token=1, \n",
    "    tie_weights=True, \n",
    "    out_bias=True,\n",
    "    output_p=0.25, \n",
    "    hidden_p=0.1, \n",
    "    input_p=0.2, \n",
    "    embed_p=0.02, \n",
    "    weight_p=0.15\n",
    ")\n",
    "\n",
    "trn_args = dict(drop_mult=1.0, alpha=2, beta=1)  # Removed 'clip' from trn_args\n",
    "\n",
    "learn = language_model_learner(data_lm, AWD_LSTM, config=config, pretrained=False, **trn_args)\n",
    "\n",
    "# Corrected gradient clipping\n",
    "learn.add_cb(GradientClip(0.12))\n",
    "\n",
    "# Load pretrained models if required\n",
    "# learn.load_pretrained(**_THWIKI_LSTM)\n"
   ]
  },
  {
   "cell_type": "code",
   "execution_count": 23,
   "id": "bb7b755c-c298-48cb-b05d-341dcdfb2a48",
   "metadata": {},
   "outputs": [
    {
     "name": "stdout",
     "output_type": "stream",
     "text": [
      "training frozen\n"
     ]
    },
    {
     "data": {
      "text/html": [
       "\n",
       "<style>\n",
       "    /* Turns off some styling */\n",
       "    progress {\n",
       "        /* gets rid of default border in Firefox and Opera. */\n",
       "        border: none;\n",
       "        /* Needs to be in here for Safari polyfill so background images work as expected. */\n",
       "        background-size: auto;\n",
       "    }\n",
       "    progress:not([value]), progress:not([value])::-webkit-progress-bar {\n",
       "        background: repeating-linear-gradient(45deg, #7e7e7e, #7e7e7e 10px, #5c5c5c 10px, #5c5c5c 20px);\n",
       "    }\n",
       "    .progress-bar-interrupted, .progress-bar-interrupted::-webkit-progress-bar {\n",
       "        background: #F44336;\n",
       "    }\n",
       "</style>\n"
      ],
      "text/plain": [
       "<IPython.core.display.HTML object>"
      ]
     },
     "metadata": {},
     "output_type": "display_data"
    },
    {
     "data": {
      "text/html": [
       "<table border=\"1\" class=\"dataframe\">\n",
       "  <thead>\n",
       "    <tr style=\"text-align: left;\">\n",
       "      <th>epoch</th>\n",
       "      <th>train_loss</th>\n",
       "      <th>valid_loss</th>\n",
       "      <th>time</th>\n",
       "    </tr>\n",
       "  </thead>\n",
       "  <tbody>\n",
       "    <tr>\n",
       "      <td>0</td>\n",
       "      <td>8.113870</td>\n",
       "      <td>7.962776</td>\n",
       "      <td>03:19</td>\n",
       "    </tr>\n",
       "  </tbody>\n",
       "</table>"
      ],
      "text/plain": [
       "<IPython.core.display.HTML object>"
      ]
     },
     "metadata": {},
     "output_type": "display_data"
    }
   ],
   "source": [
    "#train frozen\n",
    "print(\"training frozen\")\n",
    "learn.freeze_to(-1)\n",
    "learn.fit_one_cycle(1, lr_max=1e-2, moms=(0.8, 0.7, 0.9))"
   ]
  },
  {
   "cell_type": "code",
   "execution_count": 24,
   "id": "619d8c74-d235-4e16-81af-a903dab31608",
   "metadata": {},
   "outputs": [
    {
     "name": "stdout",
     "output_type": "stream",
     "text": [
      "training unfrozen\n"
     ]
    },
    {
     "data": {
      "text/html": [
       "\n",
       "<style>\n",
       "    /* Turns off some styling */\n",
       "    progress {\n",
       "        /* gets rid of default border in Firefox and Opera. */\n",
       "        border: none;\n",
       "        /* Needs to be in here for Safari polyfill so background images work as expected. */\n",
       "        background-size: auto;\n",
       "    }\n",
       "    progress:not([value]), progress:not([value])::-webkit-progress-bar {\n",
       "        background: repeating-linear-gradient(45deg, #7e7e7e, #7e7e7e 10px, #5c5c5c 10px, #5c5c5c 20px);\n",
       "    }\n",
       "    .progress-bar-interrupted, .progress-bar-interrupted::-webkit-progress-bar {\n",
       "        background: #F44336;\n",
       "    }\n",
       "</style>\n"
      ],
      "text/plain": [
       "<IPython.core.display.HTML object>"
      ]
     },
     "metadata": {},
     "output_type": "display_data"
    },
    {
     "data": {
      "text/html": [
       "<table border=\"1\" class=\"dataframe\">\n",
       "  <thead>\n",
       "    <tr style=\"text-align: left;\">\n",
       "      <th>epoch</th>\n",
       "      <th>train_loss</th>\n",
       "      <th>valid_loss</th>\n",
       "      <th>time</th>\n",
       "    </tr>\n",
       "  </thead>\n",
       "  <tbody>\n",
       "    <tr>\n",
       "      <td>0</td>\n",
       "      <td>7.533657</td>\n",
       "      <td>7.328417</td>\n",
       "      <td>10:26</td>\n",
       "    </tr>\n",
       "    <tr>\n",
       "      <td>1</td>\n",
       "      <td>7.351285</td>\n",
       "      <td>7.266615</td>\n",
       "      <td>03:40</td>\n",
       "    </tr>\n",
       "    <tr>\n",
       "      <td>2</td>\n",
       "      <td>7.251074</td>\n",
       "      <td>7.150275</td>\n",
       "      <td>08:06</td>\n",
       "    </tr>\n",
       "    <tr>\n",
       "      <td>3</td>\n",
       "      <td>7.146112</td>\n",
       "      <td>7.055691</td>\n",
       "      <td>03:09</td>\n",
       "    </tr>\n",
       "    <tr>\n",
       "      <td>4</td>\n",
       "      <td>7.064329</td>\n",
       "      <td>7.040003</td>\n",
       "      <td>03:34</td>\n",
       "    </tr>\n",
       "  </tbody>\n",
       "</table>"
      ],
      "text/plain": [
       "<IPython.core.display.HTML object>"
      ]
     },
     "metadata": {},
     "output_type": "display_data"
    }
   ],
   "source": [
    "#train unfrozen\n",
    "print(\"training unfrozen\")\n",
    "learn.unfreeze()\n",
    "learn.fit_one_cycle(5, 1e-3, moms=(0.8, 0.7, 0.9))"
   ]
  },
  {
   "cell_type": "code",
   "execution_count": 26,
   "id": "71e40f59-a509-45e3-b6e4-0bb023986e95",
   "metadata": {},
   "outputs": [],
   "source": [
    "learn.save('wisesight_lm')\n",
    "learn.save_encoder(\"wisesight_enc\")"
   ]
  },
  {
   "cell_type": "code",
   "execution_count": 27,
   "id": "70cb00d1-3adf-4332-a918-720c0bbafaae",
   "metadata": {},
   "outputs": [
    {
     "ename": "NameError",
     "evalue": "name 'load_data' is not defined",
     "output_type": "error",
     "traceback": [
      "\u001b[0;31m---------------------------------------------------------------------------\u001b[0m",
      "\u001b[0;31mNameError\u001b[0m                                 Traceback (most recent call last)",
      "Cell \u001b[0;32mIn[27], line 2\u001b[0m\n\u001b[1;32m      1\u001b[0m \u001b[38;5;66;03m#lm data\u001b[39;00m\n\u001b[0;32m----> 2\u001b[0m data_lm \u001b[38;5;241m=\u001b[39m \u001b[43mload_data\u001b[49m(model_path, \u001b[38;5;124m\"\u001b[39m\u001b[38;5;124mwisesight_lm.pkl\u001b[39m\u001b[38;5;124m\"\u001b[39m)\n\u001b[1;32m      3\u001b[0m data_lm\u001b[38;5;241m.\u001b[39msanity_check()\n\u001b[1;32m      5\u001b[0m \u001b[38;5;66;03m#classification data\u001b[39;00m\n",
      "\u001b[0;31mNameError\u001b[0m: name 'load_data' is not defined"
     ]
    }
   ],
   "source": [
    "#lm data\n",
    "data_lm = load_data(model_path, \"wisesight_lm.pkl\")\n",
    "data_lm.sanity_check()\n",
    "\n",
    "#classification data\n",
    "tt = Tokenizer(tok_func=ThaiTokenizer, lang=\"th\", pre_rules=pre_rules_th, post_rules=post_rules_th)\n",
    "processor = [TokenizeProcessor(tokenizer=tt, chunksize=10000, mark_fields=False),\n",
    "            NumericalizeProcessor(vocab=data_lm.vocab, max_vocab=60000, min_freq=20)]\n",
    "\n",
    "data_cls = (ItemLists(model_path,train=TextList.from_df(train_df, model_path, cols=[\"texts\"], processor=processor),\n",
    "                     valid=TextList.from_df(valid_df, model_path, cols=[\"texts\"], processor=processor))\n",
    "    .label_from_df(\"category\")\n",
    "    .databunch(bs=50)\n",
    "    )\n",
    "data_cls.sanity_check()\n",
    "print(len(data_cls.vocab.itos))"
   ]
  },
  {
   "cell_type": "code",
   "execution_count": null,
   "id": "a86e240c-e33c-4aab-8837-d830696939e9",
   "metadata": {},
   "outputs": [],
   "source": []
  }
 ],
 "metadata": {
  "kernelspec": {
   "display_name": "Python 3 (ipykernel)",
   "language": "python",
   "name": "python3"
  },
  "language_info": {
   "codemirror_mode": {
    "name": "ipython",
    "version": 3
   },
   "file_extension": ".py",
   "mimetype": "text/x-python",
   "name": "python",
   "nbconvert_exporter": "python",
   "pygments_lexer": "ipython3",
   "version": "3.11.6"
  }
 },
 "nbformat": 4,
 "nbformat_minor": 5
}
