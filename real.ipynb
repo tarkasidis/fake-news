{
 "cells": [
  {
   "cell_type": "code",
   "execution_count": 1,
   "id": "c1cc1fb2-30d9-432e-b8aa-6009bc70be7e",
   "metadata": {},
   "outputs": [],
   "source": [
    "import pandas as pd\n",
    "import numpy as np"
   ]
  },
  {
   "cell_type": "code",
   "execution_count": 2,
   "id": "1724e454-e835-4b7c-8894-3ba81c87d054",
   "metadata": {},
   "outputs": [
    {
     "data": {
      "text/html": [
       "<div>\n",
       "<style scoped>\n",
       "    .dataframe tbody tr th:only-of-type {\n",
       "        vertical-align: middle;\n",
       "    }\n",
       "\n",
       "    .dataframe tbody tr th {\n",
       "        vertical-align: top;\n",
       "    }\n",
       "\n",
       "    .dataframe thead th {\n",
       "        text-align: right;\n",
       "    }\n",
       "</style>\n",
       "<table border=\"1\" class=\"dataframe\">\n",
       "  <thead>\n",
       "    <tr style=\"text-align: right;\">\n",
       "      <th></th>\n",
       "      <th>title</th>\n",
       "      <th>body</th>\n",
       "      <th>type</th>\n",
       "      <th>W/D/Y</th>\n",
       "      <th>url</th>\n",
       "      <th>main url</th>\n",
       "    </tr>\n",
       "  </thead>\n",
       "  <tbody>\n",
       "    <tr>\n",
       "      <th>0</th>\n",
       "      <td>กมธ. ถกร่าง พ.ร.บ.สมรสเท่าเทียม โค้งสุดท้าย\\n ...</td>\n",
       "      <td>“รัดเกล้า” แจง กมธ.ประชุมกลั่นกรองร่าง พ.ร.บ.ส...</td>\n",
       "      <td>การเมือง</td>\n",
       "      <td>14/03/67</td>\n",
       "      <td>https://www.thairath.co.th/news/politic/2770315</td>\n",
       "      <td>https://www.thairath.co.th</td>\n",
       "    </tr>\n",
       "    <tr>\n",
       "      <th>1</th>\n",
       "      <td>คืบหน้าแก้หนี้นอกระบบ ไกล่เกลี่ยสำเร็จ 21,249\\...</td>\n",
       "      <td>ปลัดมหาดไทย เผยคืบหน้าการแก้ปัญหาหนี้นอกระบบ ล...</td>\n",
       "      <td>การเมือง</td>\n",
       "      <td>13/03/67</td>\n",
       "      <td>https://www.thairath.co.th/news/politic/2770309</td>\n",
       "      <td>https://www.thairath.co.th</td>\n",
       "    </tr>\n",
       "    <tr>\n",
       "      <th>2</th>\n",
       "      <td>สปสช. อนุมัติหนุนท้องถิ่น ใช้งบ กปท. จัดรถรับส...</td>\n",
       "      <td>บอร์ด สปสช. ไฟเขียวแนวทางจัดบริการ “พาหนะรับส่...</td>\n",
       "      <td>การเมือง</td>\n",
       "      <td>26/08/67</td>\n",
       "      <td>https://www.facebook.com/AntiFakeNewsCenter/ph...</td>\n",
       "      <td>https://www.facebook.com</td>\n",
       "    </tr>\n",
       "    <tr>\n",
       "      <th>3</th>\n",
       "      <td>อภิสิทธิ์ ไม่หวั่นสุเทพตั้งพรรคหนุนประยุทธ์\\n ...</td>\n",
       "      <td>จะไม่เป็นนักการเมืองอีกแล้ว21 ก.พ.2561 จากกรณี...</td>\n",
       "      <td>การเมือง</td>\n",
       "      <td>24/02/63</td>\n",
       "      <td>https://prachatai.com/journal/2018/02/75549</td>\n",
       "      <td>https://prachatai.com</td>\n",
       "    </tr>\n",
       "    <tr>\n",
       "      <th>4</th>\n",
       "      <td>2 ป. “แยกกันเดิน” แต่ถูกจับ “ตีรวมกัน”</td>\n",
       "      <td>เปิดศักราชปี 2566 ด้วยการประกาศ “แยกทาง-แยกพรร...</td>\n",
       "      <td>การเมือง</td>\n",
       "      <td>14/05/66</td>\n",
       "      <td>https://www.bbc.com/thai/articles/cye6kzljz8go</td>\n",
       "      <td>https://www.bbc.com</td>\n",
       "    </tr>\n",
       "    <tr>\n",
       "      <th>...</th>\n",
       "      <td>...</td>\n",
       "      <td>...</td>\n",
       "      <td>...</td>\n",
       "      <td>...</td>\n",
       "      <td>...</td>\n",
       "      <td>...</td>\n",
       "    </tr>\n",
       "    <tr>\n",
       "      <th>8995</th>\n",
       "      <td>ช่องทางประกาศผลสอบ O-NET ป.6 และ ม.3 ปีการศึกษ...</td>\n",
       "      <td>เช็กช่องทางประกาศผลสอบ O-NET ป.6 และ ม.3 ปีการ...</td>\n",
       "      <td>การศึกษา</td>\n",
       "      <td>28/03/67</td>\n",
       "      <td>https://www.thairath.co.th/news/society/2774081</td>\n",
       "      <td>https://www.thairath.co.th</td>\n",
       "    </tr>\n",
       "    <tr>\n",
       "      <th>8996</th>\n",
       "      <td>ขรก.เฮ! ครม.เคาะขึ้นเงินเดือน ปรับฐานเริ่มต้นท...</td>\n",
       "      <td>ครม.เห็นชอบปรับเพิ่มเงินเดือนข้าราชการบรรจุใหม...</td>\n",
       "      <td>การศึกษา</td>\n",
       "      <td>28/11/66</td>\n",
       "      <td>https://mgronline.com/politics/detail/96600001...</td>\n",
       "      <td>https://mgronline.com</td>\n",
       "    </tr>\n",
       "    <tr>\n",
       "      <th>8997</th>\n",
       "      <td>สพฐ. แจงเลือกวิธีเรียนได้หลายแบบหากไม่พร้อมเรี...</td>\n",
       "      <td>นายอัมพร พินะสา เลขาธิการคณะกรรมการการศึกษาขั้...</td>\n",
       "      <td>การศึกษา</td>\n",
       "      <td>28/01/64</td>\n",
       "      <td>https://www.obec.go.th/archives/377135</td>\n",
       "      <td>https://www.obec.go.th</td>\n",
       "    </tr>\n",
       "    <tr>\n",
       "      <th>8998</th>\n",
       "      <td>กยศ.ประกาศรายชื่อสถานศึกษา 4,184 แห่ง ที่เข้าร...</td>\n",
       "      <td>กองทุนเงินให้กู้ยืมเพื่อการศึกษา (กยศ.) ประกา...</td>\n",
       "      <td>การศึกษา</td>\n",
       "      <td>28/03/67</td>\n",
       "      <td>https://www.studentloan.or.th/th/news/1711620935</td>\n",
       "      <td>https://www.studentloan.or.th</td>\n",
       "    </tr>\n",
       "    <tr>\n",
       "      <th>8999</th>\n",
       "      <td>สดจากเยาวชน - ราชวิทยาลัยจุฬาภรณ์ เปิดบ้านแนะแ...</td>\n",
       "      <td>จัดเต็มสายวิทยาศาสตร์สุขภาพ “ราชวิทยาลัยจุฬาภร...</td>\n",
       "      <td>การศึกษา</td>\n",
       "      <td>13/12/66</td>\n",
       "      <td>https://www.khaosod.co.th/newspaper/newspaper-...</td>\n",
       "      <td>https://www.khaosod.co.th</td>\n",
       "    </tr>\n",
       "  </tbody>\n",
       "</table>\n",
       "<p>9000 rows × 6 columns</p>\n",
       "</div>"
      ],
      "text/plain": [
       "                                                  title  \\\n",
       "0     กมธ. ถกร่าง พ.ร.บ.สมรสเท่าเทียม โค้งสุดท้าย\\n ...   \n",
       "1     คืบหน้าแก้หนี้นอกระบบ ไกล่เกลี่ยสำเร็จ 21,249\\...   \n",
       "2     สปสช. อนุมัติหนุนท้องถิ่น ใช้งบ กปท. จัดรถรับส...   \n",
       "3     อภิสิทธิ์ ไม่หวั่นสุเทพตั้งพรรคหนุนประยุทธ์\\n ...   \n",
       "4                2 ป. “แยกกันเดิน” แต่ถูกจับ “ตีรวมกัน”   \n",
       "...                                                 ...   \n",
       "8995  ช่องทางประกาศผลสอบ O-NET ป.6 และ ม.3 ปีการศึกษ...   \n",
       "8996  ขรก.เฮ! ครม.เคาะขึ้นเงินเดือน ปรับฐานเริ่มต้นท...   \n",
       "8997  สพฐ. แจงเลือกวิธีเรียนได้หลายแบบหากไม่พร้อมเรี...   \n",
       "8998  กยศ.ประกาศรายชื่อสถานศึกษา 4,184 แห่ง ที่เข้าร...   \n",
       "8999  สดจากเยาวชน - ราชวิทยาลัยจุฬาภรณ์ เปิดบ้านแนะแ...   \n",
       "\n",
       "                                                   body      type     W/D/Y  \\\n",
       "0     “รัดเกล้า” แจง กมธ.ประชุมกลั่นกรองร่าง พ.ร.บ.ส...  การเมือง  14/03/67   \n",
       "1     ปลัดมหาดไทย เผยคืบหน้าการแก้ปัญหาหนี้นอกระบบ ล...  การเมือง  13/03/67   \n",
       "2     บอร์ด สปสช. ไฟเขียวแนวทางจัดบริการ “พาหนะรับส่...  การเมือง  26/08/67   \n",
       "3     จะไม่เป็นนักการเมืองอีกแล้ว21 ก.พ.2561 จากกรณี...  การเมือง  24/02/63   \n",
       "4     เปิดศักราชปี 2566 ด้วยการประกาศ “แยกทาง-แยกพรร...  การเมือง  14/05/66   \n",
       "...                                                 ...       ...       ...   \n",
       "8995  เช็กช่องทางประกาศผลสอบ O-NET ป.6 และ ม.3 ปีการ...  การศึกษา  28/03/67   \n",
       "8996  ครม.เห็นชอบปรับเพิ่มเงินเดือนข้าราชการบรรจุใหม...  การศึกษา  28/11/66   \n",
       "8997  นายอัมพร พินะสา เลขาธิการคณะกรรมการการศึกษาขั้...  การศึกษา  28/01/64   \n",
       "8998   กองทุนเงินให้กู้ยืมเพื่อการศึกษา (กยศ.) ประกา...  การศึกษา  28/03/67   \n",
       "8999  จัดเต็มสายวิทยาศาสตร์สุขภาพ “ราชวิทยาลัยจุฬาภร...  การศึกษา  13/12/66   \n",
       "\n",
       "                                                    url  \\\n",
       "0       https://www.thairath.co.th/news/politic/2770315   \n",
       "1       https://www.thairath.co.th/news/politic/2770309   \n",
       "2     https://www.facebook.com/AntiFakeNewsCenter/ph...   \n",
       "3           https://prachatai.com/journal/2018/02/75549   \n",
       "4        https://www.bbc.com/thai/articles/cye6kzljz8go   \n",
       "...                                                 ...   \n",
       "8995    https://www.thairath.co.th/news/society/2774081   \n",
       "8996  https://mgronline.com/politics/detail/96600001...   \n",
       "8997             https://www.obec.go.th/archives/377135   \n",
       "8998   https://www.studentloan.or.th/th/news/1711620935   \n",
       "8999  https://www.khaosod.co.th/newspaper/newspaper-...   \n",
       "\n",
       "                          main url   \n",
       "0        https://www.thairath.co.th  \n",
       "1        https://www.thairath.co.th  \n",
       "2          https://www.facebook.com  \n",
       "3             https://prachatai.com  \n",
       "4               https://www.bbc.com  \n",
       "...                             ...  \n",
       "8995     https://www.thairath.co.th  \n",
       "8996          https://mgronline.com  \n",
       "8997         https://www.obec.go.th  \n",
       "8998  https://www.studentloan.or.th  \n",
       "8999      https://www.khaosod.co.th  \n",
       "\n",
       "[9000 rows x 6 columns]"
      ]
     },
     "execution_count": 2,
     "metadata": {},
     "output_type": "execute_result"
    }
   ],
   "source": [
    "real = pd.read_csv('/home/jovyan/work/data/Real3.csv',encoding='utf-8')\n",
    "real"
   ]
  },
  {
   "cell_type": "code",
   "execution_count": 3,
   "id": "3abe43df-6ab4-4145-90e0-3e0a92687570",
   "metadata": {},
   "outputs": [
    {
     "data": {
      "text/plain": [
       "0       “รัดเกล้า” แจง กมธ.ประชุมกลั่นกรองร่าง พ.ร.บ.ส...\n",
       "1       ปลัดมหาดไทย เผยคืบหน้าการแก้ปัญหาหนี้นอกระบบ ล...\n",
       "2       บอร์ด สปสช. ไฟเขียวแนวทางจัดบริการ “พาหนะรับส่...\n",
       "3       จะไม่เป็นนักการเมืองอีกแล้ว21 ก.พ.2561 จากกรณี...\n",
       "4       เปิดศักราชปี 2566 ด้วยการประกาศ “แยกทาง-แยกพรร...\n",
       "                              ...                        \n",
       "8995    เช็กช่องทางประกาศผลสอบ O-NET ป.6 และ ม.3 ปีการ...\n",
       "8996    ครม.เห็นชอบปรับเพิ่มเงินเดือนข้าราชการบรรจุใหม...\n",
       "8997    นายอัมพร พินะสา เลขาธิการคณะกรรมการการศึกษาขั้...\n",
       "8998     กองทุนเงินให้กู้ยืมเพื่อการศึกษา (กยศ.) ประกา...\n",
       "8999    จัดเต็มสายวิทยาศาสตร์สุขภาพ “ราชวิทยาลัยจุฬาภร...\n",
       "Name: body, Length: 9000, dtype: object"
      ]
     },
     "execution_count": 3,
     "metadata": {},
     "output_type": "execute_result"
    }
   ],
   "source": [
    "txt = real['body']\n",
    "txt"
   ]
  },
  {
   "cell_type": "code",
   "execution_count": 4,
   "id": "6e35e0f5-7279-4f19-95ef-33d9ee92765a",
   "metadata": {},
   "outputs": [],
   "source": [
    "def cleanText(sentences):\n",
    "    tokenized_sentences = []\n",
    "    cleaned_sentences = []  # เพิ่มคอลัมน์เก็บประโยคที่ทำความสะอาดแล้ว\n",
    "    \n",
    "    for txt in sentences:\n",
    "        # แปลงเป็น string\n",
    "        t = str(txt)\n",
    "\n",
    "        # ลบตัวอักษรที่ไม่ใช่ภาษาไทย\n",
    "        cleaned_text = re.sub('[^ก-๙]', '', t)\n",
    "\n",
    "        # Normalize ข้อความ (เช่น การปรับสระให้เป็นรูปแบบเดียวกัน)\n",
    "        normalized_text = normalize(cleaned_text)\n",
    "\n",
    "        # ดึง stopwords ภาษาไทย\n",
    "        stop_words = set(thai_stopwords())\n",
    "\n",
    "        # ตัดคำโดยใช้ engine \"newmm\" สำหรับการตัดคำภาษาไทย\n",
    "        words = word_tokenize(normalized_text, engine=\"newmm\")\n",
    "\n",
    "        # ลบ stopwords และคำที่มีช่องว่าง\n",
    "        filtered_words = [word for word in words if word not in stop_words and word.strip()]\n",
    "\n",
    "        # แปลงเป็น lowercase\n",
    "        tokenized_sentence = [word.lower() for word in filtered_words]\n",
    "\n",
    "        # เก็บผลลัพธ์ของการตัดคำ\n",
    "        tokenized_sentences.append(tokenized_sentence)\n",
    "\n",
    "        # เก็บผลลัพธ์ของประโยคที่ทำความสะอาดแล้ว\n",
    "        cleaned_sentence = \" \".join(tokenized_sentence)\n",
    "        cleaned_sentences.append(cleaned_sentence)\n",
    "\n",
    "    return cleaned_sentences, tokenized_sentences  # คืนค่า 2 ค่า: ประโยคที่ทำความสะอาดแล้ว และการตัดคำ"
   ]
  },
  {
   "cell_type": "code",
   "execution_count": 5,
   "id": "5923993e-e09b-4840-ab34-76d6b542e1b3",
   "metadata": {},
   "outputs": [],
   "source": [
    "import re\n",
    "import pythainlp\n",
    "from pythainlp.corpus import thai_stopwords\n",
    "from pythainlp.tokenize import word_tokenize\n",
    "import string\n",
    "from pythainlp.util import normalize\n",
    "from pythainlp.tokenize import newmm"
   ]
  },
  {
   "cell_type": "code",
   "execution_count": 6,
   "id": "8443670a-4e89-41e1-bef2-2a7ad032686f",
   "metadata": {},
   "outputs": [],
   "source": [
    "real['cleantext'], tokenized_sentences = cleanText(txt)"
   ]
  },
  {
   "cell_type": "code",
   "execution_count": 7,
   "id": "1726ff61-9131-4803-8294-e794941f64e3",
   "metadata": {},
   "outputs": [
    {
     "name": "stderr",
     "output_type": "stream",
     "text": [
      "2024-09-18 15:46:36.676393: I tensorflow/core/platform/cpu_feature_guard.cc:210] This TensorFlow binary is optimized to use available CPU instructions in performance-critical operations.\n",
      "To enable the following instructions: AVX2 FMA, in other operations, rebuild TensorFlow with the appropriate compiler flags.\n",
      "2024-09-18 15:46:38.601763: W tensorflow/compiler/tf2tensorrt/utils/py_utils.cc:38] TF-TRT Warning: Could not find TensorRT\n"
     ]
    }
   ],
   "source": [
    "from sklearn.feature_extraction.text import CountVectorizer\n",
    "import tensorflow\n",
    "from keras.preprocessing import sequence\n",
    "from tensorflow.keras.preprocessing.text import Tokenizer\n",
    "\n",
    "from tensorflow.keras.preprocessing.sequence import pad_sequences\n",
    "from tensorflow.keras.models import Sequential, load_model\n",
    "from tensorflow.keras.layers import Dense, GRU, LSTM,Bidirectional, Embedding, Dropout,BatchNormalization\n",
    "from sklearn.preprocessing import OneHotEncoder\n",
    "import matplotlib.pyplot as plt"
   ]
  },
  {
   "cell_type": "code",
   "execution_count": 8,
   "id": "18c2f77a-6a2e-444a-89ef-36be2e505430",
   "metadata": {},
   "outputs": [],
   "source": [
    "def cre_tokenizer(tokenized_sentences ,filters = ' '):\n",
    "    tok = Tokenizer(filters = filters)\n",
    "    tok.fit_on_texts(tokenized_sentences)\n",
    "    return tok  "
   ]
  },
  {
   "cell_type": "code",
   "execution_count": 10,
   "id": "aced1b36-b81a-4663-b025-da24ad0b0a3b",
   "metadata": {},
   "outputs": [],
   "source": [
    "bag_of_word = cre_tokenizer(real['cleantext'])"
   ]
  },
  {
   "cell_type": "code",
   "execution_count": 11,
   "id": "952d8b17-a746-493c-ae43-cf42c6b2b135",
   "metadata": {},
   "outputs": [
    {
     "data": {
      "text/plain": [
       "34635"
      ]
     },
     "execution_count": 11,
     "metadata": {},
     "output_type": "execute_result"
    }
   ],
   "source": [
    "bag_size = len(bag_of_word.word_index)  + 1\n",
    "bag_size"
   ]
  },
  {
   "cell_type": "code",
   "execution_count": 12,
   "id": "a0170488-597d-4680-b00d-490e89516151",
   "metadata": {},
   "outputs": [],
   "source": [
    "def max_len(tokenized_sentences):\n",
    "    # ใช้ len() โดยตรงในแต่ละลิสต์ของคำ\n",
    "    return max(len(cleaned_sentences) for cleaned_sentences in tokenized_sentences)"
   ]
  },
  {
   "cell_type": "code",
   "execution_count": 13,
   "id": "f13a64bf-a1c9-4db3-bd45-40cdecbfff34",
   "metadata": {},
   "outputs": [
    {
     "data": {
      "text/plain": [
       "3569"
      ]
     },
     "execution_count": 13,
     "metadata": {},
     "output_type": "execute_result"
    }
   ],
   "source": [
    "max_sentence_length = max_len(tokenized_sentences)\n",
    "max_sentence_length"
   ]
  },
  {
   "cell_type": "code",
   "execution_count": 14,
   "id": "42c8c442-f78b-412b-9e9f-9bc06fb1c193",
   "metadata": {},
   "outputs": [],
   "source": [
    "def min_len(tokenized_sentences):\n",
    "    # ใช้ len() โดยตรงในแต่ละลิสต์ของคำ\n",
    "    return min(len(cleaned_sentences) for cleaned_sentences in tokenized_sentences)"
   ]
  },
  {
   "cell_type": "code",
   "execution_count": 15,
   "id": "c5dfeb7f-9f7f-4d13-98c3-aaf88c1b94d3",
   "metadata": {},
   "outputs": [
    {
     "data": {
      "text/plain": [
       "7"
      ]
     },
     "execution_count": 15,
     "metadata": {},
     "output_type": "execute_result"
    }
   ],
   "source": [
    "min_sentence_length = min_len(tokenized_sentences)\n",
    "min_sentence_length"
   ]
  },
  {
   "cell_type": "code",
   "execution_count": null,
   "id": "4e0f3df3-8361-47ac-bea9-f68447d80e36",
   "metadata": {},
   "outputs": [],
   "source": []
  }
 ],
 "metadata": {
  "kernelspec": {
   "display_name": "Python 3 (ipykernel)",
   "language": "python",
   "name": "python3"
  },
  "language_info": {
   "codemirror_mode": {
    "name": "ipython",
    "version": 3
   },
   "file_extension": ".py",
   "mimetype": "text/x-python",
   "name": "python",
   "nbconvert_exporter": "python",
   "pygments_lexer": "ipython3",
   "version": "3.11.6"
  }
 },
 "nbformat": 4,
 "nbformat_minor": 5
}
